{
 "cells": [
  {
   "cell_type": "markdown",
   "metadata": {},
   "source": [
    "# 00000: Model Training\n",
    "Authors: Tobias G. Mueller, Mark A. Buckner\n",
    "Last modified: 4 Dec 2024\n",
    "Contact: __________\n",
    "\n",
    "**Summary**: Scripts for yolov5 training\n",
    "\n",
    "- Training images must be labeled with bounding boxes \n",
    "- If training images are not in the required size, tileImages.py can be used to split the images before labeling\n",
    "\n",
    "requires\n",
    "- labeled set of training images in YOLO format\n",
    "\n"
   ]
  },
  {
   "cell_type": "code",
   "execution_count": 51,
   "metadata": {},
   "outputs": [
    {
     "name": "stdout",
     "output_type": "stream",
     "text": [
      "cwd is /home/tmueller/github/AIggregation\n"
     ]
    }
   ],
   "source": [
    "# first check the wd\n",
    "# this should be AIggregation folder, change if its not\n",
    "\n",
    "import os\n",
    "\n",
    "print(\"cwd is\", os.getcwd())\n",
    "\n",
    "if os.path.basename(os.getcwd()) == \"notebooks\":\n",
    "    os.chdir(\"..\")\n",
    "    print(\"cwd changed to\", os.getcwd())"
   ]
  },
  {
   "cell_type": "markdown",
   "metadata": {},
   "source": [
    "We can now train our YOLOv5m architecture with our custom image set "
   ]
  },
  {
   "cell_type": "code",
   "execution_count": null,
   "metadata": {},
   "outputs": [],
   "source": [
    "%%bash\n",
    "\n",
    "# clone YOLOv5 \n",
    "git clone https://github.com/ultralytics/yolov5\n",
    "\n",
    "# copy train.yaml into yolov5 folder. This points towards our training data\n",
    "cp ./train.yaml ./yolov5/train.yaml\n",
    "\n",
    "# Train YOLOv5 on training dataset\n",
    "cd ./yolov5\n",
    "pip install -r requirements.txt\n",
    "\n",
    "python train.py --img=608 --epochs 300 --data train.yaml --weights yolov5m.pt --name AIggregation\n"
   ]
  }
 ],
 "metadata": {
  "kernelspec": {
   "display_name": "Python 3",
   "language": "python",
   "name": "python3"
  },
  "language_info": {
   "codemirror_mode": {
    "name": "ipython",
    "version": 3
   },
   "file_extension": ".py",
   "mimetype": "text/x-python",
   "name": "python",
   "nbconvert_exporter": "python",
   "pygments_lexer": "ipython3",
   "version": "3.10.12"
  }
 },
 "nbformat": 4,
 "nbformat_minor": 2
}
