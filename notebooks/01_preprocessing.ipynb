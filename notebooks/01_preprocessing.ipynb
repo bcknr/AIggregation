{
 "cells": [
  {
   "cell_type": "markdown",
   "metadata": {},
   "source": [
    "# 00000: Preprocessing\n",
    "Authors: Tobias G. Mueller, Mark A. Buckner\n",
    "Last modified: 4 Dec 2024\n",
    "Contact: __________\n",
    "\n",
    "**Summary**: Scripts for arranging and cleaning files. This script renames training images to a standardized format and merges all training images into a single folder\n",
    "\n",
    "\n",
    "This script outputs \n",
    "\n",
    "\n",
    "# NOTE TO MARK\n",
    "honestly I think we dont need this. like we needed this yes, but I think we can just say what format files need to be in (training images together in a single folder)"
   ]
  },
  {
   "cell_type": "code",
   "execution_count": 51,
   "metadata": {},
   "outputs": [
    {
     "name": "stdout",
     "output_type": "stream",
     "text": [
      "cwd is /home/tmueller/github/AIggregation\n"
     ]
    }
   ],
   "source": [
    "# first check the wd\n",
    "# this should be AIggregation folder, change if its not\n",
    "\n",
    "import os\n",
    "\n",
    "print(\"cwd is\", os.getcwd())\n",
    "\n",
    "if os.path.basename(os.getcwd()) == \"notebooks\":\n",
    "    os.chdir(\"..\")\n",
    "    print(\"cwd changed to\", os.getcwd())"
   ]
  },
  {
   "cell_type": "code",
   "execution_count": null,
   "metadata": {},
   "outputs": [],
   "source": [
    "# rename all training images to standardized format\n",
    "\n",
    "import os\n",
    "\n",
    "# set wd up one folder\n",
    "# os.chdir(os.path.dirname(os.getcwd()))\n",
    "\n",
    "os.getcwd()\n",
    "\n",
    "collection = \"input/drone_photos/training/\"\n",
    "for i, filename in enumerate(os.listdir(collection)):\n",
    "    os.rename(collection + filename, collection + \"training\" + str(i) + \".jpg\")\n",
    "\n",
    "\n",
    "\n",
    "\n",
    "\n"
   ]
  },
  {
   "cell_type": "code",
   "execution_count": 16,
   "metadata": {},
   "outputs": [
    {
     "name": "stdout",
     "output_type": "stream",
     "text": [
      "Merging files from ../data/training_annotated\n"
     ]
    }
   ],
   "source": [
    "import os\n",
    "import sys\n",
    "module_path = os.path.abspath(os.path.join('..'))\n",
    "if module_path not in sys.path:\n",
    "    sys.path.append(module_path)\n",
    "\n",
    "from scripts.mergeTraining import mergeTraining\n",
    "\n",
    "mergeTraining(dest = \"../datasets/training_merged\", path=\"../datasets/training_annotated\")"
   ]
  }
 ],
 "metadata": {
  "kernelspec": {
   "display_name": "Python 3",
   "language": "python",
   "name": "python3"
  },
  "language_info": {
   "codemirror_mode": {
    "name": "ipython",
    "version": 3
   },
   "file_extension": ".py",
   "mimetype": "text/x-python",
   "name": "python",
   "nbconvert_exporter": "python",
   "pygments_lexer": "ipython3",
   "version": "3.10.12"
  }
 },
 "nbformat": 4,
 "nbformat_minor": 2
}
