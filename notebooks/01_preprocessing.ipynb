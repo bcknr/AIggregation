{
 "cells": [
  {
   "cell_type": "code",
   "execution_count": 6,
   "metadata": {},
   "outputs": [
    {
     "ename": "FileExistsError",
     "evalue": "[WinError 183] Cannot create a file when that file already exists: 'input/drone_photos/training/training10.jpg' -> 'input/drone_photos/training/training2.jpg'",
     "output_type": "error",
     "traceback": [
      "\u001b[1;31m---------------------------------------------------------------------------\u001b[0m",
      "\u001b[1;31mFileExistsError\u001b[0m                           Traceback (most recent call last)",
      "Cell \u001b[1;32mIn[6], line 11\u001b[0m\n\u001b[0;32m      9\u001b[0m collection \u001b[38;5;241m=\u001b[39m \u001b[38;5;124m\"\u001b[39m\u001b[38;5;124minput/drone_photos/training/\u001b[39m\u001b[38;5;124m\"\u001b[39m\n\u001b[0;32m     10\u001b[0m \u001b[38;5;28;01mfor\u001b[39;00m i, filename \u001b[38;5;129;01min\u001b[39;00m \u001b[38;5;28menumerate\u001b[39m(os\u001b[38;5;241m.\u001b[39mlistdir(collection)):\n\u001b[1;32m---> 11\u001b[0m     \u001b[43mos\u001b[49m\u001b[38;5;241;43m.\u001b[39;49m\u001b[43mrename\u001b[49m\u001b[43m(\u001b[49m\u001b[43mcollection\u001b[49m\u001b[43m \u001b[49m\u001b[38;5;241;43m+\u001b[39;49m\u001b[43m \u001b[49m\u001b[43mfilename\u001b[49m\u001b[43m,\u001b[49m\u001b[43m \u001b[49m\u001b[43mcollection\u001b[49m\u001b[43m \u001b[49m\u001b[38;5;241;43m+\u001b[39;49m\u001b[43m \u001b[49m\u001b[38;5;124;43m\"\u001b[39;49m\u001b[38;5;124;43mtraining\u001b[39;49m\u001b[38;5;124;43m\"\u001b[39;49m\u001b[43m \u001b[49m\u001b[38;5;241;43m+\u001b[39;49m\u001b[43m \u001b[49m\u001b[38;5;28;43mstr\u001b[39;49m\u001b[43m(\u001b[49m\u001b[43mi\u001b[49m\u001b[43m)\u001b[49m\u001b[43m \u001b[49m\u001b[38;5;241;43m+\u001b[39;49m\u001b[43m \u001b[49m\u001b[38;5;124;43m\"\u001b[39;49m\u001b[38;5;124;43m.jpg\u001b[39;49m\u001b[38;5;124;43m\"\u001b[39;49m\u001b[43m)\u001b[49m\n",
      "\u001b[1;31mFileExistsError\u001b[0m: [WinError 183] Cannot create a file when that file already exists: 'input/drone_photos/training/training10.jpg' -> 'input/drone_photos/training/training2.jpg'"
     ]
    }
   ],
   "source": [
    "# rename all training images to standardized format\n",
    "\n",
    "import os\n",
    "\n",
    "# set wd up one folder\n",
    "# os.chdir(os.path.dirname(os.getcwd()))\n",
    "\n",
    "os.getcwd()\n",
    "\n",
    "collection = \"input/drone_photos/training/\"\n",
    "for i, filename in enumerate(os.listdir(collection)):\n",
    "    os.rename(collection + filename, collection + \"training\" + str(i) + \".jpg\")\n",
    "\n",
    "\n",
    "\n",
    "\n",
    "\n"
   ]
  },
  {
   "cell_type": "code",
   "execution_count": 11,
   "metadata": {},
   "outputs": [],
   "source": [
    "\n",
    "# then fix the file names to remove the double suffix because I forgot to do this before annotating them...\n",
    "\n",
    "import os, glob, re\n",
    "\n",
    "name_map = {\n",
    "    \".jpg_\": \"_\"\n",
    "}\n",
    "\n",
    "\n",
    "for root, dirs, files in os.walk(r\"input/drone_photos/training_annotated/unzip\"):\n",
    "    for f in files:\n",
    "        for name in name_map.keys():\n",
    "            if re.search(name,f) != None:\n",
    "                new_name = re.sub(name,name_map[name],f)\n",
    "                try:\n",
    "                    os.rename(os.path.join(root,f), os.path.join(root, new_name))\n",
    "                except OSError: \n",
    "                    print(\"No such file or directory!\")\n",
    "\n",
    "\n"
   ]
  }
 ],
 "metadata": {
  "kernelspec": {
   "display_name": "Python 3",
   "language": "python",
   "name": "python3"
  },
  "language_info": {
   "codemirror_mode": {
    "name": "ipython",
    "version": 3
   },
   "file_extension": ".py",
   "mimetype": "text/x-python",
   "name": "python",
   "nbconvert_exporter": "python",
   "pygments_lexer": "ipython3",
   "version": "3.12.3"
  }
 },
 "nbformat": 4,
 "nbformat_minor": 2
}
