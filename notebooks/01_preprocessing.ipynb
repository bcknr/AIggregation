{
 "cells": [
  {
   "cell_type": "code",
   "execution_count": 51,
   "metadata": {},
   "outputs": [
    {
     "name": "stdout",
     "output_type": "stream",
     "text": [
      "cwd is /home/tmueller/github/AIggregation\n"
     ]
    }
   ],
   "source": [
    "# first check the wd\n",
    "# this should be AIggregation folder, change if its not\n",
    "\n",
    "import os\n",
    "\n",
    "print(\"cwd is\", os.getcwd())\n",
    "\n",
    "if os.path.basename(os.getcwd()) == \"notebooks\":\n",
    "    os.chdir(\"..\")\n",
    "    print(\"cwd changed to\", os.getcwd())"
   ]
  },
  {
   "cell_type": "code",
   "execution_count": null,
   "metadata": {},
   "outputs": [],
   "source": [
    "# rename all training images to standardized format\n",
    "\n",
    "import os\n",
    "\n",
    "# set wd up one folder\n",
    "# os.chdir(os.path.dirname(os.getcwd()))\n",
    "\n",
    "os.getcwd()\n",
    "\n",
    "collection = \"input/drone_photos/training/\"\n",
    "for i, filename in enumerate(os.listdir(collection)):\n",
    "    os.rename(collection + filename, collection + \"training\" + str(i) + \".jpg\")\n",
    "\n",
    "\n",
    "\n",
    "\n",
    "\n"
   ]
  },
  {
   "cell_type": "code",
   "execution_count": 16,
   "metadata": {},
   "outputs": [
    {
     "name": "stdout",
     "output_type": "stream",
     "text": [
      "Merging files from ../data/training_annotated\n"
     ]
    }
   ],
   "source": [
    "import os\n",
    "import sys\n",
    "module_path = os.path.abspath(os.path.join('..'))\n",
    "if module_path not in sys.path:\n",
    "    sys.path.append(module_path)\n",
    "\n",
    "from scripts.mergeTraining import mergeTraining\n",
    "\n",
    "mergeTraining(dest = \"../datasets/training_merged\", path=\"../datasets/training_annotated\")"
   ]
  },
  {
   "cell_type": "code",
   "execution_count": null,
   "metadata": {},
   "outputs": [
    {
     "ename": "ImportError",
     "evalue": "attempted relative import with no known parent package",
     "output_type": "error",
     "traceback": [
      "\u001b[0;31m---------------------------------------------------------------------------\u001b[0m",
      "\u001b[0;31mImportError\u001b[0m                               Traceback (most recent call last)",
      "Cell \u001b[0;32mIn[6], line 21\u001b[0m\n\u001b[1;32m     17\u001b[0m                 \u001b[38;5;28;01mexcept\u001b[39;00m \u001b[38;5;167;01mOSError\u001b[39;00m: \n\u001b[1;32m     18\u001b[0m                     \u001b[38;5;28mprint\u001b[39m(\u001b[38;5;124m\"\u001b[39m\u001b[38;5;124mNo such file or directory!\u001b[39m\u001b[38;5;124m\"\u001b[39m)\n\u001b[0;32m---> 21\u001b[0m \u001b[38;5;28;01mfrom\u001b[39;00m \u001b[38;5;21;01m.\u001b[39;00m\u001b[38;5;21;01m.\u001b[39;00m\u001b[38;5;21;01mscripts\u001b[39;00m\u001b[38;5;21;01m.\u001b[39;00m\u001b[38;5;21;01mmergeTraining\u001b[39;00m \u001b[38;5;28;01mimport\u001b[39;00m mergeTraining \n",
      "\u001b[0;31mImportError\u001b[0m: attempted relative import with no known parent package"
     ]
    }
   ],
   "source": [
    "\n",
    "# # then fix the file names to remove the double suffix because I forgot to do this before annotating them...\n",
    "# DELETE. SHOULD NEVER HAVE BEEN NEEDED \n",
    "\n",
    "# import os, glob, re\n",
    "\n",
    "# name_map = {\n",
    "#     \".jpg_\": \"_\"\n",
    "# }\n",
    "\n",
    "\n",
    "# for root, dirs, files in os.walk(r\"input/drone_photos/training_annotated/unzip\"):\n",
    "#     for f in files:\n",
    "#         for name in name_map.keys():\n",
    "#             if re.search(name,f) != None:\n",
    "#                 new_name = re.sub(name,name_map[name],f)\n",
    "#                 try:\n",
    "#                     os.rename(os.path.join(root,f), os.path.join(root, new_name))\n",
    "#                 except OSError: \n",
    "#                     print(\"No such file or directory!\")"
   ]
  },
  {
   "cell_type": "code",
   "execution_count": 3,
   "metadata": {},
   "outputs": [],
   "source": [
    "\n",
    "# quick script to fix the names on label studio outputs\n",
    "\n",
    "\n",
    "directory = \"datasets/groundtruth_testset\"\n",
    "\n",
    "filelist = []\n",
    "\n",
    "import os\n",
    "\n",
    "for root, dirs, files in os.walk(directory):\n",
    "    for file in files:\n",
    "        oldname = os.path.join(root,file)\n",
    "        if \"-\" in file:\n",
    "            newname = file.split(\"-\")[1]\n",
    "            os.rename(oldname, os.path.join(root,newname))\n",
    "\n",
    "\n",
    "\n"
   ]
  }
 ],
 "metadata": {
  "kernelspec": {
   "display_name": "Python 3",
   "language": "python",
   "name": "python3"
  },
  "language_info": {
   "codemirror_mode": {
    "name": "ipython",
    "version": 3
   },
   "file_extension": ".py",
   "mimetype": "text/x-python",
   "name": "python",
   "nbconvert_exporter": "python",
   "pygments_lexer": "ipython3",
   "version": "3.10.12"
  }
 },
 "nbformat": 4,
 "nbformat_minor": 2
}
