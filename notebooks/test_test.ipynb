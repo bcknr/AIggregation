{
 "cells": [
  {
   "cell_type": "code",
   "execution_count": null,
   "metadata": {},
   "outputs": [],
   "source": [
    "# to test when im at my real computer\n",
    "\n",
    "target_path = \"./datasets/tiled_export/tiles/large_slices_large_overlap\"\n",
    "source_path = \"./datasets/export_predictions/large_slices_large_overlap\"\n",
    "file_ext = \".png\"\n",
    "\n",
    "%run scripts/yolo_tile_modified.py -source {source_path} -target {target_path} -ext {file_ext}"
   ]
  }
 ],
 "metadata": {
  "kernelspec": {
   "display_name": "Python 3",
   "language": "python",
   "name": "python3"
  },
  "language_info": {
   "name": "python",
   "version": "3.12.3"
  }
 },
 "nbformat": 4,
 "nbformat_minor": 2
}
